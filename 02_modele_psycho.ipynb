{
 "cells": [
  {
   "cell_type": "code",
   "execution_count": null,
   "id": "3c4657ef",
   "metadata": {},
   "outputs": [],
   "source": [
    "# Import des librairies\n",
    "import tensorflow as tf\n",
    "from transformers import BertTokenizer, TFBertForSequenceClassification\n",
    "from transformers import create_optimizer\n",
    "from sklearn.model_selection import train_test_split\n",
    "import pandas as pd"
   ]
  },
  {
   "cell_type": "code",
   "execution_count": null,
   "id": "75c8bd83",
   "metadata": {},
   "outputs": [],
   "source": [
    "# Configurations\n",
    "MODEL_NAME = 'bert-base-uncased'\n",
    "NUM_LABELS = 7\n",
    "EPOCHS = 3\n",
    "BATCH_SIZE = 16\n",
    "LEARNING_RATE = 2e-5\n",
    "MAX_LEN = 128"
   ]
  },
  {
   "cell_type": "code",
   "execution_count": null,
   "id": "7b92cf86",
   "metadata": {},
   "outputs": [],
   "source": [
    "# Charger tokenizer\n",
    "tokenizer = BertTokenizer.from_pretrained(MODEL_NAME)"
   ]
  },
  {
   "cell_type": "code",
   "execution_count": null,
   "id": "0f82eecb",
   "metadata": {},
   "outputs": [],
   "source": [
    "# chargement du dataset\n",
    "dataset = pd.read_csv(\"dataset_psycho_clean.csv\")\n",
    "dataset.sample(5)"
   ]
  },
  {
   "cell_type": "code",
   "execution_count": null,
   "id": "0cfc4271",
   "metadata": {},
   "outputs": [],
   "source": [
    "# encodage labels\n",
    "# conversion des labels (y) en entiers\n",
    "from sklearn.preprocessing import LabelEncoder\n",
    "label_encoder = LabelEncoder()\n",
    "\n",
    "dataset['status'] = label_encoder.fit_transform(dataset['status'])"
   ]
  },
  {
   "cell_type": "code",
   "execution_count": null,
   "id": "baec9955",
   "metadata": {},
   "outputs": [],
   "source": [
    "# Vérification de l'encodage des labels\n",
    "print(\"Labels encodés :\", dataset['status'].value_counts())\n",
    "print(\"Correspondance des classes :\", label_encoder.classes_)"
   ]
  },
  {
   "cell_type": "code",
   "execution_count": null,
   "id": "317ee3bb",
   "metadata": {},
   "outputs": [],
   "source": [
    "# Split data\n",
    "train_texts, val_texts, train_labels, val_labels = train_test_split(\n",
    "    dataset['statement'].tolist(),\n",
    "    dataset['status'].tolist(),\n",
    "    test_size=0.2,\n",
    "    stratify=dataset['status'],   # labels déséquilibrés\n",
    "    random_state=42\n",
    ")"
   ]
  },
  {
   "cell_type": "markdown",
   "id": "3061b503",
   "metadata": {},
   "source": [
    "## Pré-traitement des données"
   ]
  },
  {
   "cell_type": "code",
   "execution_count": null,
   "id": "c7f24f72",
   "metadata": {},
   "outputs": [],
   "source": [
    "# Tokenization\n",
    "def encode(texts):\n",
    "    return tokenizer(\n",
    "        texts,\n",
    "        max_length=MAX_LEN,\n",
    "        padding='max_length',\n",
    "        truncation=True,\n",
    "        return_tensors='tf'\n",
    "    )\n",
    "\n",
    "\n",
    "train_encodings = encode(train_texts)\n",
    "val_encodings = encode(val_texts)"
   ]
  },
  {
   "cell_type": "code",
   "execution_count": null,
   "id": "cc23693d",
   "metadata": {},
   "outputs": [],
   "source": [
    "# Créer les datasets TensorFlow\n",
    "train_dataset = tf.data.Dataset.from_tensor_slices((\n",
    "    dict(train_encodings),\n",
    "    train_labels\n",
    ")).shuffle(100).batch(BATCH_SIZE)\n",
    "\n",
    "val_dataset = tf.data.Dataset.from_tensor_slices((\n",
    "    dict(val_encodings),\n",
    "    val_labels\n",
    ")).batch(BATCH_SIZE)"
   ]
  },
  {
   "cell_type": "code",
   "execution_count": null,
   "id": "8a8ac352",
   "metadata": {},
   "outputs": [],
   "source": [
    "# Charger modèle\n",
    "model = TFBertForSequenceClassification.from_pretrained(MODEL_NAME, num_labels=NUM_LABELS)"
   ]
  },
  {
   "cell_type": "code",
   "execution_count": null,
   "id": "fe1d17dd",
   "metadata": {},
   "outputs": [],
   "source": [
    "# Optimizer et loss\n",
    "steps_per_epoch = len(train_dataset)\n",
    "num_train_steps = steps_per_epoch * EPOCHS\n",
    "optimizer, schedule = create_optimizer(\n",
    "    init_lr=LEARNING_RATE,\n",
    "    num_warmup_steps=0,\n",
    "    num_train_steps=num_train_steps\n",
    ")\n",
    "\n",
    "loss = tf.keras.losses.SparseCategoricalCrossentropy(from_logits=True)\n",
    "metrics = [tf.keras.metrics.SparseCategoricalAccuracy('accuracy')]"
   ]
  },
  {
   "cell_type": "code",
   "execution_count": null,
   "id": "23c29087",
   "metadata": {},
   "outputs": [],
   "source": [
    "# Compiler modèle\n",
    "model.compile(optimizer=optimizer, loss=loss, metrics=metrics)"
   ]
  },
  {
   "cell_type": "code",
   "execution_count": null,
   "id": "a7fc0f39",
   "metadata": {},
   "outputs": [],
   "source": [
    "# Entraînement\n",
    "model.fit(train_dataset, validation_data=val_dataset, epochs=EPOCHS)"
   ]
  },
  {
   "cell_type": "markdown",
   "id": "eb57264a",
   "metadata": {},
   "source": [
    "## Test du modèle"
   ]
  },
  {
   "cell_type": "code",
   "execution_count": null,
   "id": "c8033279",
   "metadata": {},
   "outputs": [],
   "source": [
    "# Exemple de prédiction\n",
    "def predict_statement(statement):\n",
    "    inputs = encode([statement])\n",
    "    outputs = model(inputs)\n",
    "    logits = outputs.logits\n",
    "    predicted_class = tf.argmax(logits, axis=1).numpy()[0]\n",
    "    return predicted_class\n",
    "\n",
    "# Test prédiction\n",
    "example = \"This is amazing!\"\n",
    "status = predict_statement(example)\n",
    "print(f\"Predicted status: {status}\")"
   ]
  },
  {
   "cell_type": "markdown",
   "id": "9cc407a0",
   "metadata": {},
   "source": [
    "## Evaluation du modèle"
   ]
  }
 ],
 "metadata": {
  "kernelspec": {
   "display_name": "Python (Poetry psycho_nlp)",
   "language": "python",
   "name": "psycho_nlp"
  },
  "language_info": {
   "codemirror_mode": {
    "name": "ipython",
    "version": 3
   },
   "file_extension": ".py",
   "mimetype": "text/x-python",
   "name": "python",
   "nbconvert_exporter": "python",
   "pygments_lexer": "ipython3",
   "version": "3.12.10"
  }
 },
 "nbformat": 4,
 "nbformat_minor": 5
}
